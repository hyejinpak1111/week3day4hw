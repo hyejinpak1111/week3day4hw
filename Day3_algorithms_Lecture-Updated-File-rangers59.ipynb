{
 "cells": [
  {
   "cell_type": "markdown",
   "metadata": {},
   "source": [
    "# Algorithms, Binary Search & Linked Lists"
   ]
  },
  {
   "cell_type": "markdown",
   "metadata": {},
   "source": [
    "## Tasks Today:\n",
    " \n",
    "1) <b>In-Place Algorithms</b> <br>\n",
    " &nbsp;&nbsp;&nbsp;&nbsp; a) Syntax <br>\n",
    " &nbsp;&nbsp;&nbsp;&nbsp; a) Out of Place Algorithm <br>\n",
    " &nbsp;&nbsp;&nbsp;&nbsp; b) In-Class Exercise #1 <br>\n",
    "2) <b>Two Pointers</b> <br>\n",
    "3) <b>Linked Lists</b> <br>\n",
    "4) <b>Merge Sort</b> <br>\n",
    " &nbsp;&nbsp;&nbsp;&nbsp; a) Video on Algorithms <br>\n",
    " &nbsp;&nbsp;&nbsp;&nbsp; b) How it Works <br>\n",
    "5) <b>Exercises</b> <br>\n",
    " &nbsp;&nbsp;&nbsp;&nbsp; a) Exercise #1 - Reverse a List in Place Using an In-Place Algorithm <br>\n",
    " &nbsp;&nbsp;&nbsp;&nbsp; b) Exercise #2 - Find Distinct Words <br>\n",
    " &nbsp;&nbsp;&nbsp;&nbsp; c) Exercise #3 - Write a program to implement a Linear Search Algorithm. <br>"
   ]
  },
  {
   "cell_type": "markdown",
   "metadata": {},
   "source": [
    "## In-Place Algorithms"
   ]
  },
  {
   "cell_type": "markdown",
   "metadata": {},
   "source": [
    "#### Syntax"
   ]
  },
  {
   "cell_type": "code",
   "execution_count": null,
   "metadata": {},
   "outputs": [],
   "source": [
    "list_a = [1,2,3]\n",
    "list_b = list_a"
   ]
  },
  {
   "cell_type": "code",
   "execution_count": null,
   "metadata": {},
   "outputs": [],
   "source": [
    "print (list_a, list_b)"
   ]
  },
  {
   "cell_type": "code",
   "execution_count": null,
   "metadata": {},
   "outputs": [],
   "source": [
    "list_a = [1,2,3]\n",
    "\n",
    "def append_num(a_list, number):\n",
    "    print(hex(id(list_a)))\n",
    "    a_list.append(number)\n",
    "    \n",
    "print(hex(id(list_a)))\n",
    "\n",
    "append_num(list_a, 10)"
   ]
  },
  {
   "cell_type": "code",
   "execution_count": null,
   "metadata": {},
   "outputs": [],
   "source": [
    "list_a[0] = 4"
   ]
  },
  {
   "cell_type": "code",
   "execution_count": null,
   "metadata": {},
   "outputs": [],
   "source": [
    "# var[i], var[i + 1] = var[i+1], var[1]\n",
    "# \"Swap algorithm\"\n",
    "\n",
    "def swap(list_a, x, y):\n",
    "    list_a[x], list_a[y], list_a[z] = list_a[z], list_a[y], list_a[x]\n",
    "    return list_a\n",
    "\n",
    "my_list = ['thomas', 'jimmy', 'james']\n",
    "\n",
    "print(my_list)\n",
    "\n",
    "my_swapped_list = swap(my_list,0,1,2)\n",
    "\n",
    "print(my_list)\n",
    "print(my_swapped_list)\n",
    "    "
   ]
  },
  {
   "cell_type": "markdown",
   "metadata": {},
   "source": [
    "#### Out of Place Algorithm"
   ]
  },
  {
   "cell_type": "code",
   "execution_count": null,
   "metadata": {},
   "outputs": [],
   "source": [
    "list_b = ['cliff', 'jason', 'steve']\n",
    "def out_swap(input_list):\n",
    "    copy = input_list[:] # Turn into out of a place by making a copy of the input list.\n",
    "    print(f'memory location of input_list: {hex(id(input_list))}\\nmemory location of copy: {hex(id(copy))}')\n",
    "    \n",
    "    return copy[::-1] #This is a python shortcut for making a backwards version of an iterable\n",
    "    \n",
    "print(out_swap(list_b))\n",
    "print(list_b)"
   ]
  },
  {
   "cell_type": "markdown",
   "metadata": {},
   "source": [
    "#### In-Class Exercise #1 <br>\n",
    "<p>Write a function that takes in four arguments (list, index1, index2, index3), and swaps those three positions in the list passed in.</p>"
   ]
  },
  {
   "cell_type": "code",
   "execution_count": null,
   "metadata": {},
   "outputs": [],
   "source": [
    "def swap(list_a, w, x, y, z):\n",
    "    list_a[w], list_a[x], list_a[y], list_a[z] = list_a[z], list_a[y], list_a[x], list_a[w]\n",
    "    return list_a\n",
    "\n",
    "my_list = ['thomas', 'jimmy', 'james', 'mikey']\n",
    "\n",
    "print(my_list)\n",
    "\n",
    "swap_list = swap(my_list, 1,2,0,1)\n",
    "\n",
    "print(swap_list)"
   ]
  },
  {
   "cell_type": "code",
   "execution_count": null,
   "metadata": {},
   "outputs": [],
   "source": [
    "list_b = [10, 4, 3, 8]\n",
    "def out_swap(input_list, w, x, y, z):\n",
    "    copy = input_list[:]\n",
    "    copy[w], copy[x], copy[y], copy[z] = copy[z], copy[y], copy[x], copy[w]\n",
    "    \n",
    "    return(copy)\n",
    "\n",
    "print(list_b)\n",
    "\n",
    "out_swap(list_b,0,1,2,3)\n",
    "    "
   ]
  },
  {
   "cell_type": "markdown",
   "metadata": {},
   "source": [
    "## Two Pointers"
   ]
  },
  {
   "cell_type": "markdown",
   "metadata": {},
   "source": [
    "#### Syntax"
   ]
  },
  {
   "cell_type": "code",
   "execution_count": null,
   "metadata": {},
   "outputs": [],
   "source": [
    "\n",
    "\n",
    "def two_point(my_list):\n",
    "    # create \"pointers\" for the list\n",
    "    left = 0\n",
    "    right = len(my_list) - 1\n",
    "    \n",
    "    print(f'left: {left} right: {right}')\n",
    "    \n",
    "    while left <= right:\n",
    "        print(f'sample_list in loop: {my_list}')\n",
    "        my_list[left], my_list[right] = my_list[right], my_list[left]\n",
    "        left += 1\n",
    "        right -= 1 # 'decrement' is a backwards increment\n",
    "    return my_list\n",
    "\n",
    "sample_list = [10,11,12,13,14]\n",
    "\n",
    "print(f'sample before: {sample_list}')\n",
    "    \n",
    "two_point(sample_list)\n",
    "\n",
    "print(f'sample after: {sample_list}')"
   ]
  },
  {
   "cell_type": "markdown",
   "metadata": {},
   "source": [
    "#### Video of Algorithms <br>\n",
    "<p>Watch the video about algorithms.</p>\n",
    "\n",
    "https://www.youtube.com/watch?v=Q9HjeFD62Uk\n",
    "\n",
    "https://www.youtube.com/watch?v=kPRA0W1kECg\n",
    "\n",
    "https://www.youtube.com/watch?v=ZZuD6iUe3Pc"
   ]
  },
  {
   "cell_type": "markdown",
   "metadata": {},
   "source": [
    "# Sorting Algorithms"
   ]
  },
  {
   "cell_type": "markdown",
   "metadata": {},
   "source": [
    "#### Bubble Sort\n",
    "\n",
    "Worst Case: O(n^2) Time - O(1) Space"
   ]
  },
  {
   "cell_type": "code",
   "execution_count": null,
   "metadata": {},
   "outputs": [],
   "source": [
    "list_a = [22, 55, 88, 44, 1, 100, 34, 66]\n",
    "\n",
    "#helper function to swap\n",
    "def swap (arr, i,j):\n",
    "    arr[i], arr[j] = arr[j], arr[i]\n",
    "\n",
    "#print(f'list_a before: {list_a}')\n",
    "\n",
    "swap(list_a,2,3)\n",
    "\n",
    "#print(f'list_a after: {list_a}')\n",
    "\n",
    "def bubble(arr):\n",
    "    is_sorted = False\n",
    "    while not is_sorted:\n",
    "        is_sorted = True\n",
    "        for num in range(len(arr)-1):\n",
    "            if arr[num] > arr[num+1]:\n",
    "                swap(arr,num, num+1)\n",
    "                is_sorted = False\n",
    "    print(f'arr after bubble sort: {arr}')\n",
    "    return arr\n",
    "\n",
    "bubble(list_a)"
   ]
  },
  {
   "cell_type": "markdown",
   "metadata": {},
   "source": [
    "##### Insertion Sort\n",
    "\n",
    "Worst Case: O(n^2) time - O(1)space"
   ]
  },
  {
   "cell_type": "code",
   "execution_count": 1,
   "metadata": {},
   "outputs": [
    {
     "data": {
      "text/plain": [
       "[1, 22, 34, 44, 55, 66, 88, 100]"
      ]
     },
     "execution_count": 1,
     "metadata": {},
     "output_type": "execute_result"
    }
   ],
   "source": [
    "list_a = [22, 55, 88, 44, 1, 100, 34, 66]\n",
    "\n",
    "def swap (arr, i,j):\n",
    "    arr[i], arr[j] = arr[j], arr[i]\n",
    "    \n",
    "def insert(arr):\n",
    "    for i in range(1,len(arr)):\n",
    "        while i > 0 and arr[i] < arr[i - 1]:\n",
    "            swap(arr, i, i -1)\n",
    "            i-= 1\n",
    "    return arr\n",
    "\n",
    "insert(list_a)"
   ]
  },
  {
   "cell_type": "markdown",
   "metadata": {},
   "source": [
    "## Merge Sort"
   ]
  },
  {
   "cell_type": "markdown",
   "metadata": {},
   "source": [
    "#### How it Works"
   ]
  },
  {
   "cell_type": "code",
   "execution_count": 16,
   "metadata": {},
   "outputs": [
    {
     "data": {
      "text/plain": [
       "[2, 2, 18, 19, 19, 19, 22, 25, 28, 29]"
      ]
     },
     "execution_count": 16,
     "metadata": {},
     "output_type": "execute_result"
    }
   ],
   "source": [
    "# step 1: split members into group.\n",
    "# step 2: from left to right, merge two groups together.\n",
    "# while merging, place each item in the correct position within its merged group.\n",
    "# Continue until only one group is left.\n",
    "list_a = [2, 2, 29, 28, 18, 19, 19, 25, 19, 22]\n",
    "\n",
    "# merge sort\n",
    "def merge(input_list):\n",
    "    #print(f'input_list: {input_list}')\n",
    "    \n",
    "    # step 1: divide the array\n",
    "    if len(input_list) > 1:\n",
    "        mid = len(input_list) // 2 # trying to split into two equal gropus\n",
    "        left_half = input_list[:mid]\n",
    "        right_half = input_list[mid:]\n",
    "        #print(f'len(input_list): {len(input_list)}\\nmid: {mid}\\nleft: {left_half}\\nright_half: {right_half}')\n",
    "\n",
    "        # recursively run merge() to perform additional splits if needed.\n",
    "        # then merge if the splits are sorted.\n",
    "        merge(left_half)\n",
    "        merge(right_half)\n",
    "        \n",
    "        #index pointers: one for each half, one for the whole\n",
    "        left_i = 0\n",
    "        right_i = 0 \n",
    "        main_i = 0 # entire\n",
    "        \n",
    "        # step 2: compare the left group to the right group\n",
    "        while left_i < len(left_half) and right_i < len(right_half):\n",
    "            if left_half[left_i] < right_half[right_i]:\n",
    "                input_list[main_i] = left_half[left_i]\n",
    "                left_i += 1 # increment to test next left index\n",
    "            else:\n",
    "                input_list[main_i] = right_half[right_i]\n",
    "                right_i += 1 # increment to test next right index\n",
    "            \n",
    "            main_i += 1 # increment main index every time the while loop progresses, regardless of\n",
    "                        # whether the main index came from the left group or the right group\n",
    "                \n",
    "        # step 3: merge items into correct position\n",
    "        while left_i < len(left_half):\n",
    "            input_list[main_i] = left_half[left_i]\n",
    "            left_i += 1\n",
    "            main_i += 1\n",
    "        while right_i < len(right_half):\n",
    "            input_list[main_i] = right_half[right_i]\n",
    "            right_i += 1\n",
    "            main_i += 1\n",
    "            \n",
    "    return input_list\n",
    "\n",
    "merge(list_a)\n"
   ]
  },
  {
   "cell_type": "code",
   "execution_count": 5,
   "metadata": {},
   "outputs": [
    {
     "name": "stdout",
     "output_type": "stream",
     "text": [
      "[2, 2, 29, 28, 18, 19, 19, 25, 19, 22]\n"
     ]
    }
   ],
   "source": [
    "from random import randint\n",
    "nums = [randint(0,29) for i in range(10)]\n",
    "print(nums)"
   ]
  },
  {
   "cell_type": "markdown",
   "metadata": {},
   "source": [
    "# Binary Search\n",
    "\n",
    "The Binary Search algorithm works by finding the number in the middle of a given array and comparing it to the target. Given that the array is sorted\n",
    "\n",
    "* The worst case run time for this algorithm is `O(log(n))`"
   ]
  },
  {
   "cell_type": "code",
   "execution_count": 15,
   "metadata": {},
   "outputs": [
    {
     "name": "stdout",
     "output_type": "stream",
     "text": [
      "My name is James\n",
      "My name is Dave\n",
      "My name is Cliff\n",
      "My name is Jason\n"
     ]
    }
   ],
   "source": [
    "# what would it take in terms of computational time to run a for loop on a list?\n",
    "for i in ['james', 'dave', 'cliff', 'jason']: # 'linear time complexity', o(n)\n",
    "    print(f'My name is {i.title()}')"
   ]
  },
  {
   "cell_type": "code",
   "execution_count": 19,
   "metadata": {},
   "outputs": [
    {
     "name": "stdout",
     "output_type": "stream",
     "text": [
      "[4, 8, 26, 33, 41, 49, 86, 88, 92, 99]\n"
     ]
    },
    {
     "data": {
      "text/plain": [
       "'The index is... 4'"
      ]
     },
     "execution_count": 19,
     "metadata": {},
     "output_type": "execute_result"
    }
   ],
   "source": [
    "# if less, left\n",
    "# if greater, right\n",
    "# list of numbers to sort\n",
    "list_a = [33, 41, 99, 49, 86, 26, 88, 8, 4, 92]\n",
    "list_b = sorted(list_a)\n",
    "print(list_b)\n",
    "target_a = 88\n",
    "left_a = 49\n",
    "right_a = 4\n",
    "\n",
    "def binary_helper(arr, target, left, right):\n",
    "    while left <= right:\n",
    "        mid = (left + right) // 2\n",
    "        match = arr[mid]\n",
    "        if target == match:\n",
    "            return f'The index is... {mid}'\n",
    "        elif target < match:\n",
    "            right = mid - 1\n",
    "        else:\n",
    "            left = mid + 1\n",
    "    return - 1\n",
    "\n",
    "binary_helper(list_a, target_a, left_a, right_a)\n",
    "\n",
    "def binary(arr, target):\n",
    "    return binary_helper(arr, target, 0, len(arr) - 1)\n",
    "    \n",
    "binary([22,33,44,55,88,100],88)"
   ]
  },
  {
   "cell_type": "markdown",
   "metadata": {},
   "source": [
    "# Exercises"
   ]
  },
  {
   "cell_type": "markdown",
   "metadata": {},
   "source": [
    "### Exercise #1 <br>\n",
    "<p>Reverse the list below in-place using an in-place algorithm.<br>For extra credit: Reverse the strings at the same time.</p>"
   ]
  },
  {
   "cell_type": "code",
   "execution_count": 14,
   "metadata": {},
   "outputs": [
    {
     "name": "stdout",
     "output_type": "stream",
     "text": [
      "Before swap: ['this', 'is', 'a', 'sentence', '.']\n",
      "after swap: ['sentence', 'is', 'a', '.', 'this']\n"
     ]
    }
   ],
   "source": [
    "words = ['this' , 'is', 'a', 'sentence', '.']\n",
    "\n",
    "def swap(words,a,b,c,d,e):\n",
    "    words[a], words[b], words[c], words[d], words[e] = words[c], words[b], words[e], words[d], words[a]\n",
    "    return words\n",
    "\n",
    "print(f'Before swap: {words}')\n",
    "\n",
    "swap(words, 3,2,4,1,0)\n",
    "\n",
    "\n",
    "print(f'after swap: {words}')"
   ]
  },
  {
   "cell_type": "markdown",
   "metadata": {},
   "source": [
    "### Exercise #2 <br>\n",
    "<p>Create a function that counts how many distinct words are in the string below, then outputs a dictionary with the words as the key and the value as the amount of times that word appears in the string.<br>Should output:<br>{'a': 5,<br>\n",
    " 'abstract': 1,<br>\n",
    " 'an': 3,<br>\n",
    " 'array': 2, ... etc...</p>"
   ]
  },
  {
   "cell_type": "code",
   "execution_count": 22,
   "metadata": {},
   "outputs": [
    {
     "name": "stdout",
     "output_type": "stream",
     "text": [
      "{'In': 1, 'computing,': 1, 'a': 4, 'hash': 4, 'table': 2, 'map': 2, 'is': 1, 'data': 2, 'structure': 2, 'which': 2, 'implements': 1, 'an': 3, 'associative': 1, 'array': 2, 'abstract': 1, 'type,': 1, 'that': 1, 'can': 2, 'keys': 1, 'to': 2, 'values.': 1, 'A': 1, 'uses': 1, 'function': 1, 'compute': 1, 'index': 1, 'into': 1, 'of': 1, 'buckets': 1, 'or': 1, 'slots': 1, 'from': 1, 'the': 1, 'desired': 1, 'value': 1, 'be': 1, 'found': 1}\n"
     ]
    }
   ],
   "source": [
    "a_text = 'In computing, a hash table hash map is a data structure which implements an associative array abstract data type, a structure that can map keys to values. A hash table uses a hash function to compute an index into an array of buckets or slots from which the desired value can be found'\n",
    "\n",
    "def word_count(str):\n",
    "    counts = dict()\n",
    "    words = str.split()\n",
    "\n",
    "    for word in words:\n",
    "        if word in counts:\n",
    "            counts[word] += 1\n",
    "        else:\n",
    "            counts[word] = 1\n",
    "\n",
    "    return counts\n",
    "\n",
    "print(word_count(a_text))\n"
   ]
  },
  {
   "cell_type": "markdown",
   "metadata": {},
   "source": [
    "## Exercise #3\n",
    "\n",
    "Write a program to implement a Linear Search Algorithm.\n",
    "\n",
    "#### Hint: Linear Searching will require searching a list for a given number. "
   ]
  },
  {
   "cell_type": "code",
   "execution_count": 9,
   "metadata": {},
   "outputs": [
    {
     "name": "stdout",
     "output_type": "stream",
     "text": [
      "Element is present at index 3\n"
     ]
    }
   ],
   "source": [
    "def search(arr, N, x):\n",
    "    for i in range(0, N):\n",
    "        if (arr[i] == x):\n",
    "            return i\n",
    "    return -1\n",
    "\n",
    "if __name__ == \"__main__\":\n",
    "    arr = [10,23,45,70,11,15]\n",
    "    x = 70\n",
    "    N = len(arr)\n",
    "    \n",
    "    result = search(arr, N, x)\n",
    "    if(result == -1):\n",
    "        print(\"Element is not present in array\")\n",
    "    else:\n",
    "        print(\"Element is present at index\", result)"
   ]
  }
 ],
 "metadata": {
  "kernelspec": {
   "display_name": "Python 3.10.6 64-bit",
   "language": "python",
   "name": "python3"
  },
  "language_info": {
   "codemirror_mode": {
    "name": "ipython",
    "version": 3
   },
   "file_extension": ".py",
   "mimetype": "text/x-python",
   "name": "python",
   "nbconvert_exporter": "python",
   "pygments_lexer": "ipython3",
   "version": "3.10.6"
  },
  "vscode": {
   "interpreter": {
    "hash": "26de051ba29f2982a8de78e945f0abaf191376122a1563185a90213a26c5da77"
   }
  }
 },
 "nbformat": 4,
 "nbformat_minor": 2
}
